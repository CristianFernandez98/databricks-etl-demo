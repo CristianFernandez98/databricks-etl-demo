{
 "cells": [
  {
   "cell_type": "code",
   "execution_count": 0,
   "metadata": {
    "application/vnd.databricks.v1+cell": {
     "cellMetadata": {
      "byteLimit": 2048000,
      "rowLimit": 10000
     },
     "inputWidgets": {},
     "nuid": "6e83d422-65db-4a7f-b29f-0aeb238f269a",
     "showTitle": true,
     "tableResultSettingsMap": {},
     "title": "Import core configurations"
    }
   },
   "outputs": [],
   "source": [
    "import configparser\n",
    "from pathlib import Path\n",
    "config = configparser.ConfigParser()\n",
    "config_path = Path(\"/Workspace/Users/runcoyote2017@gmail.com/databricks-etl-demo/conf/core_config.ini\")\n",
    "# Get the catalog name configuration and set the current Catalog and database \n",
    "NULL = config.read(config_path)\n",
    "catalog = config.get(\"databricks\", \"catalog_name\")\n",
    "database = 'gold'\n",
    "spark.catalog.setCurrentCatalog(catalog) \n",
    "spark.catalog.setCurrentDatabase(database)"
   ]
  },
  {
   "cell_type": "code",
   "execution_count": 0,
   "metadata": {
    "application/vnd.databricks.v1+cell": {
     "cellMetadata": {
      "byteLimit": 2048000,
      "rowLimit": 10000
     },
     "inputWidgets": {},
     "nuid": "c3f3b1f8-6bde-4fca-8f73-6d8440004edc",
     "showTitle": true,
     "tableResultSettingsMap": {},
     "title": "Run utils notebook"
    }
   },
   "outputs": [],
   "source": [
    "%run ../../lib/utils_notebook"
   ]
  },
  {
   "cell_type": "code",
   "execution_count": 0,
   "metadata": {
    "application/vnd.databricks.v1+cell": {
     "cellMetadata": {
      "byteLimit": 2048000,
      "rowLimit": 10000
     },
     "inputWidgets": {},
     "nuid": "59e009ed-dced-4236-98b8-ab74c0f1ca2d",
     "showTitle": true,
     "tableResultSettingsMap": {},
     "title": "Read cleaned data and create caregivers table"
    }
   },
   "outputs": [],
   "source": [
    "#Read cleaned data from silver layer\n",
    "caregivers_df = spark.table(\"silver.cleaned_caregivers\")\n",
    "#Select and transform columns to create the caregivers' gold table\n",
    "final_caregivers_df = caregivers_df.select(\"caregiver_id\",concat(\"first_name\",lit(\" \"),coalesce(\"middle_name\",lit(\"\")),lit(\" \"),coalesce(\"last_name\",lit(\"\"))).alias(\"full_name\"),\"gender\",\"birthdate\",\"age\",\"salary\",\"ssn\")\n",
    "# Create a table with cleaned and transform data\n",
    "create_table(final_caregivers_df,\"caregivers\")\n",
    "#Count and print inserted rows\n",
    "rows_inserted = inserted_rows('caregivers')\n",
    "print(f\"rows inserted:{rows_inserted}\")\n"
   ]
  },
  {
   "cell_type": "code",
   "execution_count": 0,
   "metadata": {
    "application/vnd.databricks.v1+cell": {
     "cellMetadata": {
      "byteLimit": 2048000,
      "rowLimit": 10000
     },
     "inputWidgets": {},
     "nuid": "2f757f30-04b3-4600-8a58-00065f3941be",
     "showTitle": true,
     "tableResultSettingsMap": {},
     "title": "Read cleaned data and create children table"
    }
   },
   "outputs": [],
   "source": [
    "#Read cleaned data from silver layer\n",
    "children_df = spark.table(\"silver.cleaned_children\")\n",
    "#Select and transform columns to create the caregivers' gold table\n",
    "final_children_df = children_df.select(\"child_id\",concat(\"first_name\",lit(\" \"),coalesce(\"middle_name\",lit(\"\")),lit(\" \"),coalesce(\"last_name\",lit(\"\"))).alias(\"full_name\"),\"gender\",\"birthdate\",\"caregiver_id\")\n",
    "# Create a table with cleaned and transform data\n",
    "create_table(final_children_df,\"children\")\n",
    "#Count and print inserted rows\n",
    "rows_inserted = inserted_rows('children')\n",
    "print(f\"rows inserted:{rows_inserted}\")"
   ]
  },
  {
   "cell_type": "code",
   "execution_count": 0,
   "metadata": {
    "application/vnd.databricks.v1+cell": {
     "cellMetadata": {
      "byteLimit": 2048000,
      "rowLimit": 10000
     },
     "inputWidgets": {},
     "nuid": "56437293-aa38-4727-a661-cbebd4fa86e0",
     "showTitle": true,
     "tableResultSettingsMap": {},
     "title": "Create the caregiver_children_summary table"
    }
   },
   "outputs": [],
   "source": [
    "#Query to get the data to create the caregiver_children_summary table\n",
    "caregiver_children_summary_df = spark.sql(f\"\"\"SELECT cg.caregiver_id as caregiver_id,count(ch.child_id) as num_children FROM caregivers cg\n",
    "INNER JOIN children ch ON cg.caregiver_id = ch.caregiver_id\n",
    "group by cg.caregiver_id\n",
    "order by num_children desc\"\"\")\n",
    "# Create an added table summarizing how many children each caregiver has\n",
    "create_table(caregiver_children_summary_df,\"caregiver_children_summary\")\n",
    "#Count and print inserted rows\n",
    "rows_inserted = inserted_rows('caregiver_children_summary')\n",
    "print(f\"rows inserted:{rows_inserted}\")"
   ]
  },
  {
   "cell_type": "code",
   "execution_count": 0,
   "metadata": {
    "application/vnd.databricks.v1+cell": {
     "cellMetadata": {
      "byteLimit": 2048000,
      "rowLimit": 10000
     },
     "inputWidgets": {},
     "nuid": "0475dcdd-8fa0-40ea-bf22-c941c2660075",
     "showTitle": true,
     "tableResultSettingsMap": {},
     "title": "Create the caregiver_age_salary_distribution table"
    }
   },
   "outputs": [],
   "source": [
    "#Query to get the data to create the caregiver_age_salary_distribution table\n",
    "caregiver_age_salary_distribution_df  = spark.sql(f\"\"\"SELECT\n",
    "                    CONCAT(FLOOR(age / 5) * 5, '-', FLOOR(age / 5) * 5 + 4) AS age_group,\n",
    "                    ROUND(AVG(salary), 2) AS avg_salary,\n",
    "                    COUNT(*) AS num_caregivers\n",
    "                    FROM\n",
    "                    caregivers\n",
    "                    GROUP BY\n",
    "                    FLOOR(age / 5)\n",
    "                    ORDER BY\n",
    "                    FLOOR(age / 5);\n",
    "                \"\"\")\n",
    "# Create an added table for age and income analysis\n",
    "create_table(caregiver_age_salary_distribution_df,\"caregiver_age_salary_distribution\")\n",
    "#Count and print inserted rows\n",
    "rows_inserted = inserted_rows('caregiver_age_salary_distribution')\n",
    "print(f\"rows inserted:{rows_inserted}\")"
   ]
  }
 ],
 "metadata": {
  "application/vnd.databricks.v1+notebook": {
   "computePreferences": null,
   "dashboards": [],
   "environmentMetadata": {
    "base_environment": "",
    "environment_version": "3"
   },
   "inputWidgetPreferences": null,
   "language": "python",
   "notebookMetadata": {
    "mostRecentlyExecutedCommandWithImplicitDF": {
     "commandId": 7851971515566773,
     "dataframes": [
      "_sqldf"
     ]
    },
    "pythonIndentUnit": 4
   },
   "notebookName": "gold_tables_definition",
   "widgets": {}
  },
  "language_info": {
   "name": "python"
  }
 },
 "nbformat": 4,
 "nbformat_minor": 0
}
